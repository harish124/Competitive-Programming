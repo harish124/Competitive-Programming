{
 "cells": [
  {
   "cell_type": "markdown",
   "metadata": {},
   "source": [
    "## Problem 49"
   ]
  },
  {
   "cell_type": "markdown",
   "metadata": {},
   "source": [
    "The arithmetic sequence, 1487, 4817, 8147, in which each of the terms increases by 3330, is unusual in two ways: (i) each of the three terms are prime, and, (ii) each of the 4-digit numbers are permutations of one another.\n",
    "\n",
    "There are no arithmetic sequences made up of three 1-, 2-, or 3-digit primes, exhibiting this property, but there is one other 4-digit increasing sequence.\n",
    "\n",
    "What 12-digit number do you form by concatenating the three terms in this sequence?"
   ]
  },
  {
   "cell_type": "code",
   "execution_count": 2,
   "metadata": {},
   "outputs": [],
   "source": [
    "import pandas as pd"
   ]
  },
  {
   "cell_type": "code",
   "execution_count": 12,
   "metadata": {},
   "outputs": [],
   "source": [
    "import numpy as np"
   ]
  },
  {
   "cell_type": "code",
   "execution_count": 4,
   "metadata": {},
   "outputs": [],
   "source": [
    "df=pd.read_excel('My_prime_dataset.xlsx')"
   ]
  },
  {
   "cell_type": "code",
   "execution_count": 6,
   "metadata": {},
   "outputs": [
    {
     "data": {
      "text/html": [
       "<div>\n",
       "<style scoped>\n",
       "    .dataframe tbody tr th:only-of-type {\n",
       "        vertical-align: middle;\n",
       "    }\n",
       "\n",
       "    .dataframe tbody tr th {\n",
       "        vertical-align: top;\n",
       "    }\n",
       "\n",
       "    .dataframe thead th {\n",
       "        text-align: right;\n",
       "    }\n",
       "</style>\n",
       "<table border=\"1\" class=\"dataframe\">\n",
       "  <thead>\n",
       "    <tr style=\"text-align: right;\">\n",
       "      <th></th>\n",
       "      <th>1</th>\n",
       "      <th>2</th>\n",
       "      <th>3</th>\n",
       "      <th>4</th>\n",
       "      <th>5</th>\n",
       "      <th>6</th>\n",
       "      <th>7</th>\n",
       "      <th>8</th>\n",
       "      <th>9</th>\n",
       "      <th>10</th>\n",
       "      <th>...</th>\n",
       "      <th>285</th>\n",
       "      <th>286</th>\n",
       "      <th>287</th>\n",
       "      <th>288</th>\n",
       "      <th>289</th>\n",
       "      <th>290</th>\n",
       "      <th>291</th>\n",
       "      <th>292</th>\n",
       "      <th>293</th>\n",
       "      <th>294</th>\n",
       "    </tr>\n",
       "  </thead>\n",
       "  <tbody>\n",
       "    <tr>\n",
       "      <th>1</th>\n",
       "      <td>786433</td>\n",
       "      <td>2</td>\n",
       "      <td>3</td>\n",
       "      <td>262147</td>\n",
       "      <td>5</td>\n",
       "      <td>7</td>\n",
       "      <td>262151</td>\n",
       "      <td>262153</td>\n",
       "      <td>917513</td>\n",
       "      <td>11</td>\n",
       "      <td>...</td>\n",
       "      <td>262541</td>\n",
       "      <td>262543</td>\n",
       "      <td>655757</td>\n",
       "      <td>401</td>\n",
       "      <td>786829</td>\n",
       "      <td>786833</td>\n",
       "      <td>131477</td>\n",
       "      <td>131479</td>\n",
       "      <td>409</td>\n",
       "      <td>262553</td>\n",
       "    </tr>\n",
       "    <tr>\n",
       "      <th>2</th>\n",
       "      <td>393629</td>\n",
       "      <td>524701</td>\n",
       "      <td>131489</td>\n",
       "      <td>419</td>\n",
       "      <td>524707</td>\n",
       "      <td>421</td>\n",
       "      <td>393637</td>\n",
       "      <td>262567</td>\n",
       "      <td>917923</td>\n",
       "      <td>131497</td>\n",
       "      <td>...</td>\n",
       "      <td>131909</td>\n",
       "      <td>262981</td>\n",
       "      <td>839</td>\n",
       "      <td>525127</td>\n",
       "      <td>918341</td>\n",
       "      <td>918347</td>\n",
       "      <td>787277</td>\n",
       "      <td>394063</td>\n",
       "      <td>525137</td>\n",
       "      <td>918353</td>\n",
       "    </tr>\n",
       "    <tr>\n",
       "      <th>3</th>\n",
       "      <td>853</td>\n",
       "      <td>131927</td>\n",
       "      <td>525143</td>\n",
       "      <td>857</td>\n",
       "      <td>394073</td>\n",
       "      <td>859</td>\n",
       "      <td>787289</td>\n",
       "      <td>131933</td>\n",
       "      <td>656221</td>\n",
       "      <td>863</td>\n",
       "      <td>...</td>\n",
       "      <td>132347</td>\n",
       "      <td>918779</td>\n",
       "      <td>1277</td>\n",
       "      <td>1279</td>\n",
       "      <td>263423</td>\n",
       "      <td>787711</td>\n",
       "      <td>1283</td>\n",
       "      <td>525571</td>\n",
       "      <td>263429</td>\n",
       "      <td>394501</td>\n",
       "    </tr>\n",
       "    <tr>\n",
       "      <th>4</th>\n",
       "      <td>918787</td>\n",
       "      <td>1289</td>\n",
       "      <td>132361</td>\n",
       "      <td>1291</td>\n",
       "      <td>394507</td>\n",
       "      <td>263437</td>\n",
       "      <td>656651</td>\n",
       "      <td>132367</td>\n",
       "      <td>525583</td>\n",
       "      <td>1297</td>\n",
       "      <td>...</td>\n",
       "      <td>919189</td>\n",
       "      <td>657047</td>\n",
       "      <td>132761</td>\n",
       "      <td>657049</td>\n",
       "      <td>132763</td>\n",
       "      <td>525979</td>\n",
       "      <td>1693</td>\n",
       "      <td>525983</td>\n",
       "      <td>1697</td>\n",
       "      <td>788129</td>\n",
       "    </tr>\n",
       "    <tr>\n",
       "      <th>5</th>\n",
       "      <td>1699</td>\n",
       "      <td>263843</td>\n",
       "      <td>657061</td>\n",
       "      <td>263849</td>\n",
       "      <td>1709</td>\n",
       "      <td>657071</td>\n",
       "      <td>394931</td>\n",
       "      <td>263863</td>\n",
       "      <td>657079</td>\n",
       "      <td>1721</td>\n",
       "      <td>...</td>\n",
       "      <td>2113</td>\n",
       "      <td>657473</td>\n",
       "      <td>133187</td>\n",
       "      <td>919613</td>\n",
       "      <td>788549</td>\n",
       "      <td>919621</td>\n",
       "      <td>264263</td>\n",
       "      <td>264269</td>\n",
       "      <td>919631</td>\n",
       "      <td>2129</td>\n",
       "    </tr>\n",
       "  </tbody>\n",
       "</table>\n",
       "<p>5 rows × 294 columns</p>\n",
       "</div>"
      ],
      "text/plain": [
       "      1       2       3       4       5       6       7       8       9    \\\n",
       "1  786433       2       3  262147       5       7  262151  262153  917513   \n",
       "2  393629  524701  131489     419  524707     421  393637  262567  917923   \n",
       "3     853  131927  525143     857  394073     859  787289  131933  656221   \n",
       "4  918787    1289  132361    1291  394507  263437  656651  132367  525583   \n",
       "5    1699  263843  657061  263849    1709  657071  394931  263863  657079   \n",
       "\n",
       "      10    ...       285     286     287     288     289     290     291  \\\n",
       "1      11   ...    262541  262543  655757     401  786829  786833  131477   \n",
       "2  131497   ...    131909  262981     839  525127  918341  918347  787277   \n",
       "3     863   ...    132347  918779    1277    1279  263423  787711    1283   \n",
       "4    1297   ...    919189  657047  132761  657049  132763  525979    1693   \n",
       "5    1721   ...      2113  657473  133187  919613  788549  919621  264263   \n",
       "\n",
       "      292     293     294  \n",
       "1  131479     409  262553  \n",
       "2  394063  525137  918353  \n",
       "3  525571  263429  394501  \n",
       "4  525983    1697  788129  \n",
       "5  264269  919631    2129  \n",
       "\n",
       "[5 rows x 294 columns]"
      ]
     },
     "execution_count": 6,
     "metadata": {},
     "output_type": "execute_result"
    }
   ],
   "source": [
    "df.head(5)"
   ]
  },
  {
   "cell_type": "markdown",
   "metadata": {},
   "source": [
    "* I want to check prime nos that are 4 digit nos.\n",
    "* So going to select them from this dataset as below"
   ]
  },
  {
   "cell_type": "code",
   "execution_count": 16,
   "metadata": {},
   "outputs": [],
   "source": [
    "a=np.array(df.values)"
   ]
  },
  {
   "cell_type": "code",
   "execution_count": 58,
   "metadata": {},
   "outputs": [],
   "source": [
    "b=a.flatten()   #converting 2d array to 1d array"
   ]
  },
  {
   "cell_type": "code",
   "execution_count": 59,
   "metadata": {},
   "outputs": [],
   "source": [
    "b=b[(1000<=b)&(b<10000)]"
   ]
  },
  {
   "cell_type": "markdown",
   "metadata": {},
   "source": [
    "# So now b contains all the 4 digit prime nos."
   ]
  },
  {
   "cell_type": "code",
   "execution_count": 60,
   "metadata": {},
   "outputs": [
    {
     "data": {
      "text/plain": [
       "array([1009, 1013, 1019, ..., 9949, 9967, 9973], dtype=int64)"
      ]
     },
     "execution_count": 60,
     "metadata": {},
     "output_type": "execute_result"
    }
   ],
   "source": [
    "b"
   ]
  },
  {
   "cell_type": "markdown",
   "metadata": {},
   "source": [
    "# Permutation Check\n",
    "* Idea:\n",
    "    * Sort the nos using any best sorting technique\n",
    "    * Compare the nos. \n",
    "        * if they match then they are permutations of each other.\n",
    "        * else they are not."
   ]
  },
  {
   "cell_type": "markdown",
   "metadata": {},
   "source": [
    "# Solution below"
   ]
  },
  {
   "cell_type": "code",
   "execution_count": 76,
   "metadata": {},
   "outputs": [
    {
     "name": "stdout",
     "output_type": "stream",
     "text": [
      "1487 4817 8147\n",
      "2969 6299 9629\n"
     ]
    }
   ],
   "source": [
    "for i in range(1000,10000):\n",
    "    if(i not in b):\n",
    "        continue\n",
    "    if(i+3330 not in b):\n",
    "        continue\n",
    "    if((i+3330)+3330 not in b):\n",
    "        continue    \n",
    "    n1=list(str(i))\n",
    "    n2=list(str(i+3330))\n",
    "    n3=list(str((i+3330)+3330))\n",
    "    n1.sort()\n",
    "    n2.sort()\n",
    "    if(n1!=n2):\n",
    "        continue\n",
    "    n3.sort()\n",
    "    if(n1!=n3):\n",
    "        continue\n",
    "    \n",
    "    print(i,i+3330,(i+3330)+3330)\n"
   ]
  }
 ],
 "metadata": {
  "kernelspec": {
   "display_name": "Python 3",
   "language": "python",
   "name": "python3"
  },
  "language_info": {
   "codemirror_mode": {
    "name": "ipython",
    "version": 3
   },
   "file_extension": ".py",
   "mimetype": "text/x-python",
   "name": "python",
   "nbconvert_exporter": "python",
   "pygments_lexer": "ipython3",
   "version": "3.7.0"
  }
 },
 "nbformat": 4,
 "nbformat_minor": 2
}
