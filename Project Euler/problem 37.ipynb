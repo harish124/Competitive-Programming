{
 "cells": [
  {
   "cell_type": "markdown",
   "metadata": {},
   "source": [
    "# Problem 37\n",
    "The number 3797 has an interesting property. Being prime itself, it is possible to continuously remove digits from left to right, and remain prime at each stage: 3797, 797, 97, and 7. Similarly we can work from right to left: 3797, 379, 37, and 3.\n",
    "\n",
    "Find the sum of the only eleven primes that are both truncatable from left to right and right to left.\n",
    "\n",
    "NOTE: 2, 3, 5, and 7 are not considered to be truncatable primes."
   ]
  },
  {
   "cell_type": "markdown",
   "metadata": {},
   "source": [
    "# Going to implement the solution using below array logic"
   ]
  },
  {
   "cell_type": "code",
   "execution_count": 1,
   "metadata": {},
   "outputs": [
    {
     "data": {
      "text/plain": [
       "'797'"
      ]
     },
     "execution_count": 1,
     "metadata": {},
     "output_type": "execute_result"
    }
   ],
   "source": [
    "s=\"3797\"\n",
    "s[1:]"
   ]
  },
  {
   "cell_type": "code",
   "execution_count": 14,
   "metadata": {},
   "outputs": [],
   "source": [
    "import numpy as np\n",
    "import primePkg as pp"
   ]
  },
  {
   "cell_type": "code",
   "execution_count": 7,
   "metadata": {},
   "outputs": [],
   "source": [
    "import pandas as pd"
   ]
  },
  {
   "cell_type": "code",
   "execution_count": 8,
   "metadata": {},
   "outputs": [],
   "source": [
    "df=pd.read_excel('My_prime_dataset.xlsx')"
   ]
  },
  {
   "cell_type": "code",
   "execution_count": 13,
   "metadata": {},
   "outputs": [
    {
     "data": {
      "text/plain": [
       "array([     2,      3,      5, ..., 999961, 999979, 999983], dtype=int64)"
      ]
     },
     "execution_count": 13,
     "metadata": {},
     "output_type": "execute_result"
    }
   ],
   "source": [
    "a=np.array(df.values)\n",
    "primeSet=a.flatten()\n",
    "primeSet.sort()\n",
    "primeSet"
   ]
  },
  {
   "cell_type": "markdown",
   "metadata": {},
   "source": [
    "# By using primeSet from csv file we can traverse through only prime values to check if they are truncatable or not\n",
    "\n",
    "* But for checking if the substring is prime or not , i will be using isPrime method from primePkg because it will be faster\n",
    "* than the \"in\" operator for checking in the prime set"
   ]
  },
  {
   "cell_type": "code",
   "execution_count": 36,
   "metadata": {},
   "outputs": [
    {
     "name": "stdout",
     "output_type": "stream",
     "text": [
      "23\n",
      "37\n",
      "53\n",
      "73\n",
      "313\n",
      "317\n",
      "373\n",
      "797\n",
      "3137\n",
      "3797\n",
      "739397\n",
      "Sum:  748317\n"
     ]
    }
   ],
   "source": [
    "truncSet = set()\n",
    "wrong = [2,3,5,7]\n",
    "for s in primeSet[:1000000]:    \n",
    "    if(s in wrong):\n",
    "        continue\n",
    "    var=str(s)\n",
    "    #print(\"\\nVar: \",var)\n",
    "    l=len(var)\n",
    "    i=0\n",
    "    while(i<l):\n",
    "        if(pp.isPrime(int(var[i:]))):\n",
    "            i+=1\n",
    "        else:\n",
    "            break\n",
    "    \n",
    "    if(i==l):\n",
    "        i=i-1\n",
    "        while(i>0):\n",
    "            if(pp.isPrime(int(var[:i]))):\n",
    "                i-=1\n",
    "            else:\n",
    "                break\n",
    "    if(i==0):\n",
    "        truncSet.add(s)\n",
    "        print(s)\n",
    "    \n",
    "print(\"Sum: \",sum(truncSet))"
   ]
  },
  {
   "cell_type": "markdown",
   "metadata": {},
   "source": [
    "# Hence 748317 is the answer\n"
   ]
  }
 ],
 "metadata": {
  "kernelspec": {
   "display_name": "Python 3",
   "language": "python",
   "name": "python3"
  },
  "language_info": {
   "codemirror_mode": {
    "name": "ipython",
    "version": 3
   },
   "file_extension": ".py",
   "mimetype": "text/x-python",
   "name": "python",
   "nbconvert_exporter": "python",
   "pygments_lexer": "ipython3",
   "version": "3.7.0"
  }
 },
 "nbformat": 4,
 "nbformat_minor": 2
}
