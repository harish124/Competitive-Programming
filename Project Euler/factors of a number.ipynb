{
 "cells": [
  {
   "cell_type": "markdown",
   "metadata": {},
   "source": [
    "## Finding Factors of a Number:"
   ]
  },
  {
   "cell_type": "code",
   "execution_count": 4,
   "metadata": {},
   "outputs": [],
   "source": [
    "def my_factors(n):    \n",
    "    l=list()\n",
    "    r=int(n**.5)\n",
    "    i=1\n",
    "    if(r**2==n):\n",
    "        l.append(r)\n",
    "    while(i<r):\n",
    "        if(n%i==0):\n",
    "            l.append(int(i))        \n",
    "            l.append(int(n/i))\n",
    "            print(\"i = \",i,\" n = \",n/i)\n",
    "        i=i+1\n",
    "    print(l)"
   ]
  },
  {
   "cell_type": "code",
   "execution_count": 6,
   "metadata": {},
   "outputs": [
    {
     "name": "stdout",
     "output_type": "stream",
     "text": [
      "i =  1  n =  36.0\n",
      "i =  2  n =  18.0\n",
      "i =  3  n =  12.0\n",
      "i =  4  n =  9.0\n",
      "[6, 1, 36, 2, 18, 3, 12, 4, 9]\n"
     ]
    }
   ],
   "source": [
    "my_factors(36)"
   ]
  },
  {
   "cell_type": "code",
   "execution_count": null,
   "metadata": {},
   "outputs": [],
   "source": []
  }
 ],
 "metadata": {
  "kernelspec": {
   "display_name": "Python 3",
   "language": "python",
   "name": "python3"
  },
  "language_info": {
   "codemirror_mode": {
    "name": "ipython",
    "version": 3
   },
   "file_extension": ".py",
   "mimetype": "text/x-python",
   "name": "python",
   "nbconvert_exporter": "python",
   "pygments_lexer": "ipython3",
   "version": "3.7.0"
  }
 },
 "nbformat": 4,
 "nbformat_minor": 2
}
