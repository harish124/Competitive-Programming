{
 "cells": [
  {
   "cell_type": "code",
   "execution_count": 4,
   "metadata": {},
   "outputs": [],
   "source": [
    "import pandas as pd\n",
    "import numpy as np"
   ]
  },
  {
   "cell_type": "code",
   "execution_count": 21,
   "metadata": {},
   "outputs": [],
   "source": [
    "import primePkg as pp"
   ]
  },
  {
   "cell_type": "markdown",
   "metadata": {},
   "source": [
    "* An example below"
   ]
  },
  {
   "cell_type": "code",
   "execution_count": 43,
   "metadata": {},
   "outputs": [
    {
     "name": "stdout",
     "output_type": "stream",
     "text": [
      "['971', '719', '197']\n"
     ]
    }
   ],
   "source": [
    "data='197'\n",
    "\n",
    "t=[]\n",
    "\n",
    "for i in range(len(data)):    \n",
    "    temp=data[1:]+data[0]\n",
    "    if(pp.isPrime(int(temp))):\n",
    "        t.append(temp)\n",
    "    data=temp\n",
    "    \n",
    "    \n",
    "print(t)"
   ]
  },
  {
   "cell_type": "code",
   "execution_count": 5,
   "metadata": {},
   "outputs": [],
   "source": [
    "df=pd.read_excel('My_prime_dataset.xlsx')"
   ]
  },
  {
   "cell_type": "code",
   "execution_count": 44,
   "metadata": {},
   "outputs": [
    {
     "data": {
      "text/plain": [
       "array([786433,      2,      3, ..., 262139, 655357, 131071], dtype=int64)"
      ]
     },
     "execution_count": 44,
     "metadata": {},
     "output_type": "execute_result"
    }
   ],
   "source": [
    "a=np.array(df.values)\n",
    "pset=a.flatten()\n",
    "pset"
   ]
  },
  {
   "cell_type": "code",
   "execution_count": 48,
   "metadata": {},
   "outputs": [
    {
     "name": "stdout",
     "output_type": "stream",
     "text": [
      "No. of circular primes =  55\n"
     ]
    }
   ],
   "source": [
    "no_of_cir_primes=0\n",
    "for x in pset:\n",
    "    t=[]\n",
    "    data = str(x)\n",
    "    \n",
    "    for i in range(len(data)):    \n",
    "        temp=data[1:]+data[0]\n",
    "        if(pp.isPrime(int(temp))):\n",
    "            t.append(temp)\n",
    "        data=temp\n",
    "    if(len(t)==len(data)):\n",
    "        no_of_cir_primes+=1\n",
    "print(\"No. of circular primes = \",no_of_cir_primes)"
   ]
  },
  {
   "cell_type": "markdown",
   "metadata": {},
   "source": [
    "# Hence the answer is 55"
   ]
  }
 ],
 "metadata": {
  "kernelspec": {
   "display_name": "Python 3",
   "language": "python",
   "name": "python3"
  },
  "language_info": {
   "codemirror_mode": {
    "name": "ipython",
    "version": 3
   },
   "file_extension": ".py",
   "mimetype": "text/x-python",
   "name": "python",
   "nbconvert_exporter": "python",
   "pygments_lexer": "ipython3",
   "version": "3.7.0"
  }
 },
 "nbformat": 4,
 "nbformat_minor": 2
}
