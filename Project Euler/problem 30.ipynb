{
 "cells": [
  {
   "cell_type": "markdown",
   "metadata": {},
   "source": [
    "# Problem 30\n",
    "Surprisingly there are only three numbers that can be written as the sum of fourth powers of their digits:\n",
    "\n",
    "1634 = 14 + 64 + 34 + 44\n",
    "8208 = 84 + 24 + 04 + 84\n",
    "9474 = 94 + 44 + 74 + 44\n",
    "As 1 = 14 is not a sum it is not included.\n",
    "\n",
    "The sum of these numbers is 1634 + 8208 + 9474 = 19316.\n",
    "\n",
    "Find the sum of all the numbers that can be written as the sum of fifth powers of their digits."
   ]
  },
  {
   "cell_type": "markdown",
   "metadata": {},
   "source": [
    "# Idea:\n",
    "So, here we are going to repeatedly use the fifith powers of nos from 1-9\n",
    "so let us create a dictionary holding those fifth powers for the respective keys which range from 1-9.\n",
    "\n",
    "By doing this we need not calcluate the powers of nos. again and again"
   ]
  },
  {
   "cell_type": "markdown",
   "metadata": {},
   "source": [
    "# Solution:"
   ]
  },
  {
   "cell_type": "code",
   "execution_count": 1,
   "metadata": {},
   "outputs": [],
   "source": [
    "d=dict()"
   ]
  },
  {
   "cell_type": "code",
   "execution_count": 2,
   "metadata": {},
   "outputs": [
    {
     "data": {
      "text/plain": [
       "{0: 0,\n",
       " 1: 1,\n",
       " 2: 32,\n",
       " 3: 243,\n",
       " 4: 1024,\n",
       " 5: 3125,\n",
       " 6: 7776,\n",
       " 7: 16807,\n",
       " 8: 32768,\n",
       " 9: 59049}"
      ]
     },
     "execution_count": 2,
     "metadata": {},
     "output_type": "execute_result"
    }
   ],
   "source": [
    "for i in range(10):\n",
    "    d[i]=i**5\n",
    "d"
   ]
  },
  {
   "cell_type": "code",
   "execution_count": 25,
   "metadata": {},
   "outputs": [
    {
     "name": "stdout",
     "output_type": "stream",
     "text": [
      "4150\n",
      "4151\n",
      "54748\n",
      "92727\n",
      "93084\n",
      "194979\n",
      "{194979, 4151, 4150, 92727, 54748, 93084}\n",
      "443839\n"
     ]
    }
   ],
   "source": [
    "powFiveset = set()\n",
    "s=0\n",
    "for i in range(2,1000000):\n",
    "    s=0\n",
    "    for x in list(str(i)):\n",
    "        s+=d[int(x)]    \n",
    "    if(s==i):\n",
    "        powFiveset.add(i)\n",
    "        print(i)\n",
    "        \n",
    "print(powFiveset)\n",
    "print(sum(powFiveset))\n",
    "    "
   ]
  },
  {
   "cell_type": "markdown",
   "metadata": {},
   "source": [
    "# Below I'm checking some greater range and getting the same sum 443838 only\n",
    "\n",
    "* So the answer is 443839."
   ]
  },
  {
   "cell_type": "code",
   "execution_count": 26,
   "metadata": {},
   "outputs": [
    {
     "name": "stdout",
     "output_type": "stream",
     "text": [
      "4150\n",
      "4151\n",
      "54748\n",
      "92727\n",
      "93084\n",
      "194979\n",
      "{194979, 4151, 4150, 92727, 54748, 93084}\n",
      "443839\n"
     ]
    }
   ],
   "source": [
    "powFiveset = set()\n",
    "s=0\n",
    "for i in range(2,10000000):\n",
    "    s=0\n",
    "    for x in list(str(i)):\n",
    "        s+=d[int(x)]    \n",
    "    if(s==i):\n",
    "        powFiveset.add(i)\n",
    "        print(i)\n",
    "        \n",
    "print(powFiveset)\n",
    "print(sum(powFiveset))"
   ]
  },
  {
   "cell_type": "code",
   "execution_count": null,
   "metadata": {},
   "outputs": [],
   "source": []
  }
 ],
 "metadata": {
  "kernelspec": {
   "display_name": "Python 3",
   "language": "python",
   "name": "python3"
  },
  "language_info": {
   "codemirror_mode": {
    "name": "ipython",
    "version": 3
   },
   "file_extension": ".py",
   "mimetype": "text/x-python",
   "name": "python",
   "nbconvert_exporter": "python",
   "pygments_lexer": "ipython3",
   "version": "3.7.0"
  }
 },
 "nbformat": 4,
 "nbformat_minor": 2
}
