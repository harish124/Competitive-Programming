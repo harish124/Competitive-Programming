{
 "cells": [
  {
   "cell_type": "code",
   "execution_count": 1,
   "metadata": {},
   "outputs": [],
   "source": [
    "import numpy as np,pandas as pd"
   ]
  },
  {
   "cell_type": "code",
   "execution_count": 2,
   "metadata": {},
   "outputs": [],
   "source": [
    "import factorsPkg as fact"
   ]
  },
  {
   "cell_type": "code",
   "execution_count": 3,
   "metadata": {},
   "outputs": [],
   "source": [
    "import primePkg as pp"
   ]
  },
  {
   "cell_type": "markdown",
   "metadata": {},
   "source": [
    "## Using My_prime_dataset for checking prime"
   ]
  },
  {
   "cell_type": "code",
   "execution_count": 4,
   "metadata": {},
   "outputs": [],
   "source": [
    "df= pd.DataFrame(pd.read_excel('My_prime_dataset.xlsx'))"
   ]
  },
  {
   "cell_type": "code",
   "execution_count": 5,
   "metadata": {},
   "outputs": [
    {
     "data": {
      "text/html": [
       "<div>\n",
       "<style scoped>\n",
       "    .dataframe tbody tr th:only-of-type {\n",
       "        vertical-align: middle;\n",
       "    }\n",
       "\n",
       "    .dataframe tbody tr th {\n",
       "        vertical-align: top;\n",
       "    }\n",
       "\n",
       "    .dataframe thead th {\n",
       "        text-align: right;\n",
       "    }\n",
       "</style>\n",
       "<table border=\"1\" class=\"dataframe\">\n",
       "  <thead>\n",
       "    <tr style=\"text-align: right;\">\n",
       "      <th></th>\n",
       "      <th>1</th>\n",
       "      <th>2</th>\n",
       "      <th>3</th>\n",
       "      <th>4</th>\n",
       "      <th>5</th>\n",
       "      <th>6</th>\n",
       "      <th>7</th>\n",
       "      <th>8</th>\n",
       "      <th>9</th>\n",
       "      <th>10</th>\n",
       "      <th>...</th>\n",
       "      <th>285</th>\n",
       "      <th>286</th>\n",
       "      <th>287</th>\n",
       "      <th>288</th>\n",
       "      <th>289</th>\n",
       "      <th>290</th>\n",
       "      <th>291</th>\n",
       "      <th>292</th>\n",
       "      <th>293</th>\n",
       "      <th>294</th>\n",
       "    </tr>\n",
       "  </thead>\n",
       "  <tbody>\n",
       "    <tr>\n",
       "      <th>1</th>\n",
       "      <td>786433</td>\n",
       "      <td>2</td>\n",
       "      <td>3</td>\n",
       "      <td>262147</td>\n",
       "      <td>5</td>\n",
       "      <td>7</td>\n",
       "      <td>262151</td>\n",
       "      <td>262153</td>\n",
       "      <td>917513</td>\n",
       "      <td>11</td>\n",
       "      <td>...</td>\n",
       "      <td>262541</td>\n",
       "      <td>262543</td>\n",
       "      <td>655757</td>\n",
       "      <td>401</td>\n",
       "      <td>786829</td>\n",
       "      <td>786833</td>\n",
       "      <td>131477</td>\n",
       "      <td>131479</td>\n",
       "      <td>409</td>\n",
       "      <td>262553</td>\n",
       "    </tr>\n",
       "    <tr>\n",
       "      <th>2</th>\n",
       "      <td>393629</td>\n",
       "      <td>524701</td>\n",
       "      <td>131489</td>\n",
       "      <td>419</td>\n",
       "      <td>524707</td>\n",
       "      <td>421</td>\n",
       "      <td>393637</td>\n",
       "      <td>262567</td>\n",
       "      <td>917923</td>\n",
       "      <td>131497</td>\n",
       "      <td>...</td>\n",
       "      <td>131909</td>\n",
       "      <td>262981</td>\n",
       "      <td>839</td>\n",
       "      <td>525127</td>\n",
       "      <td>918341</td>\n",
       "      <td>918347</td>\n",
       "      <td>787277</td>\n",
       "      <td>394063</td>\n",
       "      <td>525137</td>\n",
       "      <td>918353</td>\n",
       "    </tr>\n",
       "    <tr>\n",
       "      <th>3</th>\n",
       "      <td>853</td>\n",
       "      <td>131927</td>\n",
       "      <td>525143</td>\n",
       "      <td>857</td>\n",
       "      <td>394073</td>\n",
       "      <td>859</td>\n",
       "      <td>787289</td>\n",
       "      <td>131933</td>\n",
       "      <td>656221</td>\n",
       "      <td>863</td>\n",
       "      <td>...</td>\n",
       "      <td>132347</td>\n",
       "      <td>918779</td>\n",
       "      <td>1277</td>\n",
       "      <td>1279</td>\n",
       "      <td>263423</td>\n",
       "      <td>787711</td>\n",
       "      <td>1283</td>\n",
       "      <td>525571</td>\n",
       "      <td>263429</td>\n",
       "      <td>394501</td>\n",
       "    </tr>\n",
       "    <tr>\n",
       "      <th>4</th>\n",
       "      <td>918787</td>\n",
       "      <td>1289</td>\n",
       "      <td>132361</td>\n",
       "      <td>1291</td>\n",
       "      <td>394507</td>\n",
       "      <td>263437</td>\n",
       "      <td>656651</td>\n",
       "      <td>132367</td>\n",
       "      <td>525583</td>\n",
       "      <td>1297</td>\n",
       "      <td>...</td>\n",
       "      <td>919189</td>\n",
       "      <td>657047</td>\n",
       "      <td>132761</td>\n",
       "      <td>657049</td>\n",
       "      <td>132763</td>\n",
       "      <td>525979</td>\n",
       "      <td>1693</td>\n",
       "      <td>525983</td>\n",
       "      <td>1697</td>\n",
       "      <td>788129</td>\n",
       "    </tr>\n",
       "    <tr>\n",
       "      <th>5</th>\n",
       "      <td>1699</td>\n",
       "      <td>263843</td>\n",
       "      <td>657061</td>\n",
       "      <td>263849</td>\n",
       "      <td>1709</td>\n",
       "      <td>657071</td>\n",
       "      <td>394931</td>\n",
       "      <td>263863</td>\n",
       "      <td>657079</td>\n",
       "      <td>1721</td>\n",
       "      <td>...</td>\n",
       "      <td>2113</td>\n",
       "      <td>657473</td>\n",
       "      <td>133187</td>\n",
       "      <td>919613</td>\n",
       "      <td>788549</td>\n",
       "      <td>919621</td>\n",
       "      <td>264263</td>\n",
       "      <td>264269</td>\n",
       "      <td>919631</td>\n",
       "      <td>2129</td>\n",
       "    </tr>\n",
       "  </tbody>\n",
       "</table>\n",
       "<p>5 rows × 294 columns</p>\n",
       "</div>"
      ],
      "text/plain": [
       "      1       2       3       4       5       6       7       8       9    \\\n",
       "1  786433       2       3  262147       5       7  262151  262153  917513   \n",
       "2  393629  524701  131489     419  524707     421  393637  262567  917923   \n",
       "3     853  131927  525143     857  394073     859  787289  131933  656221   \n",
       "4  918787    1289  132361    1291  394507  263437  656651  132367  525583   \n",
       "5    1699  263843  657061  263849    1709  657071  394931  263863  657079   \n",
       "\n",
       "      10    ...       285     286     287     288     289     290     291  \\\n",
       "1      11   ...    262541  262543  655757     401  786829  786833  131477   \n",
       "2  131497   ...    131909  262981     839  525127  918341  918347  787277   \n",
       "3     863   ...    132347  918779    1277    1279  263423  787711    1283   \n",
       "4    1297   ...    919189  657047  132761  657049  132763  525979    1693   \n",
       "5    1721   ...      2113  657473  133187  919613  788549  919621  264263   \n",
       "\n",
       "      292     293     294  \n",
       "1  131479     409  262553  \n",
       "2  394063  525137  918353  \n",
       "3  525571  263429  394501  \n",
       "4  525983    1697  788129  \n",
       "5  264269  919631    2129  \n",
       "\n",
       "[5 rows x 294 columns]"
      ]
     },
     "execution_count": 5,
     "metadata": {},
     "output_type": "execute_result"
    }
   ],
   "source": [
    "df.head()"
   ]
  },
  {
   "cell_type": "markdown",
   "metadata": {},
   "source": [
    "## Example test: (Checking if 132347 is in this set):\n",
    "* Result should be true"
   ]
  },
  {
   "cell_type": "code",
   "execution_count": 6,
   "metadata": {},
   "outputs": [
    {
     "data": {
      "text/plain": [
       "True"
      ]
     },
     "execution_count": 6,
     "metadata": {},
     "output_type": "execute_result"
    }
   ],
   "source": [
    "132347 in df.values"
   ]
  },
  {
   "cell_type": "markdown",
   "metadata": {},
   "source": [
    "## Project Euler 47\n",
    "\n",
    "The first two consecutive numbers to have two distinct prime factors are:\n",
    "\n",
    "14 = 2 × 7\n",
    "\n",
    "15 = 3 × 5\n",
    "\n",
    "The first three consecutive numbers to have three distinct prime factors are:\n",
    "\n",
    "644 = 2² × 7 × 23\n",
    "\n",
    "645 = 3 × 5 × 43\n",
    "\n",
    "646 = 2 × 17 × 19.\n",
    "\n",
    "Find the first four consecutive integers to have four distinct prime factors each. What is the first of these numbers?"
   ]
  },
  {
   "cell_type": "markdown",
   "metadata": {},
   "source": [
    "## Below example shows how to compare two sets"
   ]
  },
  {
   "cell_type": "code",
   "execution_count": 9,
   "metadata": {},
   "outputs": [
    {
     "name": "stdout",
     "output_type": "stream",
     "text": [
      "0\n"
     ]
    }
   ],
   "source": [
    "s=set()\n",
    "s2=set()\n",
    "s={2,3}\n",
    "s2={5,7}\n",
    "t=s.intersection(s2)  #Note comparing sets has nothing to do with our problem , just testing some set methods here.\n",
    "print(len(t))"
   ]
  },
  {
   "cell_type": "markdown",
   "metadata": {},
   "source": [
    "## Solution:"
   ]
  },
  {
   "cell_type": "code",
   "execution_count": 8,
   "metadata": {},
   "outputs": [
    {
     "name": "stdout",
     "output_type": "stream",
     "text": [
      "i =  134043 \n",
      "Set 1:  {3, 491, 13, 7} \n",
      "Set 2:  {2, 31, 47, 23} \n",
      "Set 3:  {17, 83, 19, 5} \n",
      "Set 4: {11, 2, 3, 677}\n",
      "\n"
     ]
    }
   ],
   "source": [
    "s1=set()\n",
    "s2=set()\n",
    "s3=set()\n",
    "s4=set()\n",
    "for i in range(100000,1000000):    \n",
    "    s1=set()\n",
    "    s2=set()\n",
    "    s3=set()\n",
    "    s4=set()\n",
    "    for x in fact.my_factors(i):\n",
    "        if(pp.isPrime(x)):\n",
    "            s1.add(x)\n",
    "    for x in fact.my_factors(i+1):\n",
    "        if(pp.isPrime(x)):\n",
    "            s2.add(x)\n",
    "    for x in fact.my_factors(i+2):\n",
    "        if(pp.isPrime(x)):\n",
    "            s3.add(x)\n",
    "    for x in fact.my_factors(i+3):\n",
    "        if(pp.isPrime(x)):\n",
    "            s4.add(x)    \n",
    "    if(len(s1)!=4 or len(s2)!=4 or len(s3)!=4 or len(s4)!=4):\n",
    "        continue\n",
    "    else:\n",
    "        print(\"i = \",i,\"\\nSet 1: \",s1,\"\\nSet 2: \",s2,\"\\nSet 3: \",s3,\"\\nSet 4:\",s4)\n",
    "        print()\n",
    "        break"
   ]
  },
  {
   "cell_type": "markdown",
   "metadata": {},
   "source": [
    "## Tried this method(see below) of primeset instead of pp.isPrime but didn't work \n",
    "i.e:\n",
    "primeset=df.values\n",
    "2 in primeset like this stuff runs very slow inside loops\n",
    "so used pp.isPrime itself"
   ]
  }
 ],
 "metadata": {
  "kernelspec": {
   "display_name": "Python 3",
   "language": "python",
   "name": "python3"
  },
  "language_info": {
   "codemirror_mode": {
    "name": "ipython",
    "version": 3
   },
   "file_extension": ".py",
   "mimetype": "text/x-python",
   "name": "python",
   "nbconvert_exporter": "python",
   "pygments_lexer": "ipython3",
   "version": "3.7.0"
  }
 },
 "nbformat": 4,
 "nbformat_minor": 2
}
