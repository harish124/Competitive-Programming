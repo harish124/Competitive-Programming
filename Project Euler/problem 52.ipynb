{
 "cells": [
  {
   "cell_type": "markdown",
   "metadata": {},
   "source": [
    "# Problem 52\n",
    "It can be seen that the number, 125874, and its double, 251748, contain exactly the same digits, but in a different order.\n",
    "\n",
    "Find the smallest positive integer, x, such that 2x, 3x, 4x, 5x, and 6x, contain the same digits."
   ]
  },
  {
   "cell_type": "code",
   "execution_count": 5,
   "metadata": {},
   "outputs": [
    {
     "name": "stdout",
     "output_type": "stream",
     "text": [
      "Reached stage 4, i =  142857\n",
      "Reached stage 5, i =  142857\n",
      "Reached stage 6, i =  142857\n",
      "ANSWER:  142857\n"
     ]
    }
   ],
   "source": [
    "i=1\n",
    "while(True):\n",
    "    n1=list(str(i))\n",
    "    n2=list(str(2*i))\n",
    "    n1.sort()\n",
    "    n2.sort()\n",
    "    if(n1!=n2):\n",
    "        i+=1\n",
    "        continue\n",
    "    else:        \n",
    "        #print(\"Reached stage 2, i = \",i)\n",
    "        n3=list(str(3*i))\n",
    "        n3.sort()\n",
    "        if(n1!=n3):\n",
    "            i+=1\n",
    "            continue\n",
    "        else:            \n",
    "            #print(\"Reached stage 3, i = \",i)\n",
    "            n4=list(str(4*i))\n",
    "            n4.sort()\n",
    "            if(n1!=n4):\n",
    "                i+=1\n",
    "                continue\n",
    "            else:   \n",
    "                print(\"Reached stage 4, i = \",i)\n",
    "                n5=list(str(5*i))\n",
    "                n5.sort()\n",
    "                if(n1!=n5):\n",
    "                    i+=1\n",
    "                    continue\n",
    "                else:   \n",
    "                    print(\"Reached stage 5, i = \",i)\n",
    "                    n6=list(str(6*i))\n",
    "                    n6.sort()\n",
    "                    if(n1!=n6):\n",
    "                        i+=1\n",
    "                        continue\n",
    "                    else:\n",
    "                        print(\"Reached stage 6, i = \",i)\n",
    "                        print(\"ANSWER: \",i)\n",
    "                        break\n",
    "    \n",
    "    \n",
    "        "
   ]
  }
 ],
 "metadata": {
  "kernelspec": {
   "display_name": "Python 3",
   "language": "python",
   "name": "python3"
  },
  "language_info": {
   "codemirror_mode": {
    "name": "ipython",
    "version": 3
   },
   "file_extension": ".py",
   "mimetype": "text/x-python",
   "name": "python",
   "nbconvert_exporter": "python",
   "pygments_lexer": "ipython3",
   "version": "3.7.0"
  }
 },
 "nbformat": 4,
 "nbformat_minor": 2
}
