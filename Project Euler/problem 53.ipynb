{
 "cells": [
  {
   "cell_type": "markdown",
   "metadata": {},
   "source": [
    "# Problem 53\n",
    "There are exactly ten ways of selecting three from five, 12345:\n",
    "\n",
    "123, 124, 125, 134, 135, 145, 234, 235, 245, and 345\n",
    "\n",
    "In combinatorics, we use the notation, 5C3=10.\n",
    "\n",
    "In general, nCr=n!r!(n−r)!, where r≤n, n!=n×(n−1)×...×3×2×1, and 0!=1.\n",
    "\n",
    "It is not until n=23, that a value exceeds one-million: 23C10=1144066.\n",
    "\n",
    "How many, not necessarily distinct, values of nCr for 1≤n≤100, are greater than one-million?"
   ]
  },
  {
   "cell_type": "code",
   "execution_count": 6,
   "metadata": {},
   "outputs": [],
   "source": [
    "import permutationsPkg as prm\n",
    "import time"
   ]
  },
  {
   "cell_type": "code",
   "execution_count": 7,
   "metadata": {},
   "outputs": [
    {
     "name": "stdout",
     "output_type": "stream",
     "text": [
      "4075\n",
      "time:  0.11403465270996094\n"
     ]
    }
   ],
   "source": [
    "start=time.time()\n",
    "cnt=0\n",
    "for i in range(1,101):\n",
    "    for j in range(0,i+1):      \n",
    "        temp=prm.ncr(i,j)\n",
    "        if(temp>1000000):\n",
    "            cnt+=1        \n",
    "print(cnt)\n",
    "print(\"time: \",time.time()-start)"
   ]
  },
  {
   "cell_type": "markdown",
   "metadata": {},
   "source": [
    "# Improved version\n",
    "\n",
    "* Logic: Once I get the lower limit (r), the upper limit is clearly (n−r) and the number of values btw r and n-r would be n−2r+1. So we can stop our j iteration once we find the lower limt and can continue with the next value of 'i'"
   ]
  },
  {
   "cell_type": "code",
   "execution_count": 20,
   "metadata": {},
   "outputs": [
    {
     "name": "stdout",
     "output_type": "stream",
     "text": [
      "4075\n",
      "time:  0.0039975643157958984\n"
     ]
    }
   ],
   "source": [
    "start=time.time()\n",
    "cnt=0\n",
    "for i in range(23,101):\n",
    "    for j in range(0,i//2):      \n",
    "        temp=prm.ncr(i,j)\n",
    "        if(temp>1000000):\n",
    "            cnt+=(i-2*j+1)\n",
    "            break\n",
    "print(cnt)\n",
    "print(\"time: \",time.time()-start)"
   ]
  },
  {
   "cell_type": "code",
   "execution_count": null,
   "metadata": {},
   "outputs": [],
   "source": []
  }
 ],
 "metadata": {
  "kernelspec": {
   "display_name": "Python 3",
   "language": "python",
   "name": "python3"
  },
  "language_info": {
   "codemirror_mode": {
    "name": "ipython",
    "version": 3
   },
   "file_extension": ".py",
   "mimetype": "text/x-python",
   "name": "python",
   "nbconvert_exporter": "python",
   "pygments_lexer": "ipython3",
   "version": "3.7.0"
  }
 },
 "nbformat": 4,
 "nbformat_minor": 2
}
